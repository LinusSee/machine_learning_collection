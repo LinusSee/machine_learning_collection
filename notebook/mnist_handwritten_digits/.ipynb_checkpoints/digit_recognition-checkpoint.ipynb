{
 "cells": [
  {
   "cell_type": "markdown",
   "metadata": {},
   "source": [
    "# Noteworthy information\n",
    "- The input formatting in the beginning (scaling the images via ' / 255.0') is extremely important. Feel free to try it without, the accuracy will be horrible"
   ]
  },
  {
   "cell_type": "code",
   "execution_count": 172,
   "metadata": {},
   "outputs": [
    {
     "name": "stdout",
     "output_type": "stream",
     "text": [
      "(60000, 28, 28)\n",
      "(60000,)\n"
     ]
    }
   ],
   "source": [
    "import tensorflow as tf\n",
    "\n",
    "mnist = tf.keras.datasets.mnist\n",
    "\n",
    "(x_train, y_train), (x_test, y_test) = mnist.load_data()\n",
    "x_train = x_train / 255.0\n",
    "x_test = x_test / 255.0\n",
    "\n",
    "print(x_train.shape)\n",
    "print(y_train.shape)"
   ]
  },
  {
   "cell_type": "code",
   "execution_count": 173,
   "metadata": {},
   "outputs": [],
   "source": [
    "model = tf.keras.models.Sequential([\n",
    "    tf.keras.layers.Reshape((28, 28, 1)),\n",
    "    tf.keras.layers.Conv2D(32, (5, 5), activation=tf.nn.relu),\n",
    "    tf.keras.layers.MaxPooling2D(strides=(2,2)),\n",
    "    tf.keras.layers.Conv2D(64, 5, activation=tf.nn.relu),\n",
    "    tf.keras.layers.MaxPooling2D(strides=(2, 2)),\n",
    "    tf.keras.layers.Flatten(),\n",
    "    tf.keras.layers.Dense(1024, activation=tf.nn.relu),\n",
    "    tf.keras.layers.Dropout(0.4),\n",
    "    tf.keras.layers.Dense(10, activation=tf.nn.softmax)\n",
    "])"
   ]
  },
  {
   "cell_type": "code",
   "execution_count": 174,
   "metadata": {},
   "outputs": [],
   "source": [
    "dense1 = tf.keras.models.Sequential([\n",
    "    tf.keras.layers.Flatten(),\n",
    "    tf.keras.layers.Dense(10, activation=tf.nn.softmax)\n",
    "])"
   ]
  },
  {
   "cell_type": "code",
   "execution_count": 175,
   "metadata": {},
   "outputs": [],
   "source": [
    "dense2 = tf.keras.models.Sequential([\n",
    "    tf.keras.layers.Flatten(),\n",
    "    tf.keras.layers.Dense(128, activation=tf.nn.relu),\n",
    "    tf.keras.layers.Dense(10, activation=tf.nn.softmax)\n",
    "])"
   ]
  },
  {
   "cell_type": "code",
   "execution_count": 176,
   "metadata": {},
   "outputs": [],
   "source": [
    "dense3 = tf.keras.models.Sequential([\n",
    "    tf.keras.layers.Flatten(),\n",
    "    tf.keras.layers.Dense(784, activation=tf.nn.relu),\n",
    "    tf.keras.layers.Dense(10, activation=tf.nn.softmax)\n",
    "])"
   ]
  },
  {
   "cell_type": "code",
   "execution_count": 177,
   "metadata": {},
   "outputs": [],
   "source": [
    "dense4 = tf.keras.models.Sequential([\n",
    "    tf.keras.layers.Flatten(),\n",
    "    tf.keras.layers.Dense(784, activation=tf.nn.relu),\n",
    "    tf.keras.layers.Dense(128, activation=tf.nn.relu),\n",
    "    tf.keras.layers.Dropout(0.4),\n",
    "    tf.keras.layers.Dense(10, activation=tf.nn.softmax)\n",
    "])"
   ]
  },
  {
   "cell_type": "code",
   "execution_count": 178,
   "metadata": {},
   "outputs": [
    {
     "name": "stdout",
     "output_type": "stream",
     "text": [
      "Epoch 1/2\n",
      "60000/60000 [==============================] - 77s 1ms/step - loss: 0.1005 - acc: 0.9690\n",
      "Epoch 2/2\n",
      "60000/60000 [==============================] - 78s 1ms/step - loss: 0.0367 - acc: 0.9885\n",
      "10000/10000 [==============================] - 3s 341us/step\n"
     ]
    },
    {
     "data": {
      "text/plain": [
       "[0.028188022279262075, 0.9906]"
      ]
     },
     "execution_count": 178,
     "metadata": {},
     "output_type": "execute_result"
    }
   ],
   "source": [
    "model.compile(optimizer=\"adam\", loss=\"sparse_categorical_crossentropy\", metrics=[\"accuracy\"])\n",
    "model.fit(x_train, y_train, epochs=2) # 1-2 epochs\n",
    "model.evaluate(x_test, y_test)"
   ]
  },
  {
   "cell_type": "code",
   "execution_count": 180,
   "metadata": {},
   "outputs": [
    {
     "name": "stdout",
     "output_type": "stream",
     "text": [
      "Epoch 1/5\n",
      "60000/60000 [==============================] - 3s 48us/step - loss: 0.4641 - acc: 0.8781\n",
      "Epoch 2/5\n",
      "60000/60000 [==============================] - 2s 34us/step - loss: 0.3034 - acc: 0.9152\n",
      "Epoch 3/5\n",
      "60000/60000 [==============================] - 2s 32us/step - loss: 0.2826 - acc: 0.9210\n",
      "Epoch 4/5\n",
      "60000/60000 [==============================] - 2s 33us/step - loss: 0.2728 - acc: 0.9238\n",
      "Epoch 5/5\n",
      "60000/60000 [==============================] - 2s 33us/step - loss: 0.2660 - acc: 0.9253\n",
      "10000/10000 [==============================] - 1s 59us/step\n"
     ]
    },
    {
     "data": {
      "text/plain": [
       "[0.2711879818588495, 0.9243]"
      ]
     },
     "execution_count": 180,
     "metadata": {},
     "output_type": "execute_result"
    }
   ],
   "source": [
    "dense1.compile(optimizer=\"adam\", loss=\"sparse_categorical_crossentropy\", metrics=[\"accuracy\"])\n",
    "dense1.fit(x_train, y_train, epochs=5)\n",
    "dense1.evaluate(x_test, y_test)"
   ]
  },
  {
   "cell_type": "code",
   "execution_count": 181,
   "metadata": {
    "scrolled": true
   },
   "outputs": [
    {
     "name": "stdout",
     "output_type": "stream",
     "text": [
      "Epoch 1/5\n",
      "60000/60000 [==============================] - 5s 81us/step - loss: 0.2571 - acc: 0.9265\n",
      "Epoch 2/5\n",
      "60000/60000 [==============================] - 4s 75us/step - loss: 0.1140 - acc: 0.9664\n",
      "Epoch 3/5\n",
      "60000/60000 [==============================] - 5s 78us/step - loss: 0.0787 - acc: 0.9763\n",
      "Epoch 4/5\n",
      "60000/60000 [==============================] - 4s 73us/step - loss: 0.0584 - acc: 0.9818\n",
      "Epoch 5/5\n",
      "60000/60000 [==============================] - 4s 70us/step - loss: 0.0449 - acc: 0.9860\n",
      "10000/10000 [==============================] - 1s 69us/step\n"
     ]
    },
    {
     "data": {
      "text/plain": [
       "[0.07420111730808858, 0.9778]"
      ]
     },
     "execution_count": 181,
     "metadata": {},
     "output_type": "execute_result"
    }
   ],
   "source": [
    "dense2.compile(optimizer=\"adam\", loss=\"sparse_categorical_crossentropy\", metrics=[\"accuracy\"])\n",
    "dense2.fit(x_train, y_train, epochs=5)\n",
    "dense2.evaluate(x_test, y_test)"
   ]
  },
  {
   "cell_type": "code",
   "execution_count": 182,
   "metadata": {},
   "outputs": [
    {
     "name": "stdout",
     "output_type": "stream",
     "text": [
      "Epoch 1/5\n",
      "60000/60000 [==============================] - 22s 371us/step - loss: 0.1884 - acc: 0.9440\n",
      "Epoch 2/5\n",
      "60000/60000 [==============================] - 20s 328us/step - loss: 0.0759 - acc: 0.9769\n",
      "Epoch 3/5\n",
      "60000/60000 [==============================] - 19s 321us/step - loss: 0.0491 - acc: 0.9844\n",
      "Epoch 4/5\n",
      "60000/60000 [==============================] - 20s 334us/step - loss: 0.0344 - acc: 0.9886\n",
      "Epoch 5/5\n",
      "60000/60000 [==============================] - 20s 333us/step - loss: 0.0252 - acc: 0.9914\n",
      "10000/10000 [==============================] - 1s 112us/step\n"
     ]
    },
    {
     "data": {
      "text/plain": [
       "[0.06763592192384822, 0.9811]"
      ]
     },
     "execution_count": 182,
     "metadata": {},
     "output_type": "execute_result"
    }
   ],
   "source": [
    "dense3.compile(optimizer=\"adam\", loss=\"sparse_categorical_crossentropy\", metrics=[\"accuracy\"])\n",
    "dense3.fit(x_train, y_train, epochs=5)\n",
    "dense3.evaluate(x_test, y_test)"
   ]
  },
  {
   "cell_type": "code",
   "execution_count": 183,
   "metadata": {},
   "outputs": [
    {
     "name": "stdout",
     "output_type": "stream",
     "text": [
      "Epoch 1/5\n",
      "60000/60000 [==============================] - 24s 393us/step - loss: 0.1851 - acc: 0.9435\n",
      "Epoch 2/5\n",
      "60000/60000 [==============================] - 22s 370us/step - loss: 0.0795 - acc: 0.9758\n",
      "Epoch 3/5\n",
      "60000/60000 [==============================] - 22s 368us/step - loss: 0.0543 - acc: 0.9828\n",
      "Epoch 4/5\n",
      "60000/60000 [==============================] - 22s 365us/step - loss: 0.0406 - acc: 0.9868\n",
      "Epoch 5/5\n",
      "60000/60000 [==============================] - 22s 369us/step - loss: 0.0352 - acc: 0.9884\n",
      "10000/10000 [==============================] - 1s 120us/step\n"
     ]
    },
    {
     "data": {
      "text/plain": [
       "[0.07864982604629477, 0.9787]"
      ]
     },
     "execution_count": 183,
     "metadata": {},
     "output_type": "execute_result"
    }
   ],
   "source": [
    "dense4.compile(optimizer=\"adam\", loss=\"sparse_categorical_crossentropy\", metrics=[\"accuracy\"])\n",
    "dense4.fit(x_train, y_train, epochs=5)\n",
    "dense4.evaluate(x_test, y_test)"
   ]
  },
  {
   "cell_type": "code",
   "execution_count": null,
   "metadata": {},
   "outputs": [],
   "source": []
  }
 ],
 "metadata": {
  "kernelspec": {
   "display_name": "Python 3",
   "language": "python",
   "name": "python3"
  },
  "language_info": {
   "codemirror_mode": {
    "name": "ipython",
    "version": 3
   },
   "file_extension": ".py",
   "mimetype": "text/x-python",
   "name": "python",
   "nbconvert_exporter": "python",
   "pygments_lexer": "ipython3",
   "version": "3.6.7"
  }
 },
 "nbformat": 4,
 "nbformat_minor": 2
}
