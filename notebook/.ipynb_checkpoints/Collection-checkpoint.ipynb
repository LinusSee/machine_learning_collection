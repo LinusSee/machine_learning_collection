{
 "cells": [
  {
   "cell_type": "markdown",
   "metadata": {},
   "source": [
    "# Collection on object detection\n",
    "This is a collection of general information on how to do object recognition, what are the current standards and so on."
   ]
  },
  {
   "cell_type": "markdown",
   "metadata": {},
   "source": [
    "## General notes\n",
    "- ImageNet was the \"golden standard\" for several years\n",
    "- Often pretrained networks are used for object classification (and then specialized for the target task)\n",
    "- Recommendation by sharpestminds.com -> 1-2 MOOCs, then a handful of simple projects and then a fairly sophisticated project (supervised by a professional)"
   ]
  },
  {
   "cell_type": "markdown",
   "metadata": {},
   "source": [
    "## Datasets\n",
    "- ImageNet\n",
    "- Pascal Voc\n",
    "- COCO (detection challenge)\n",
    "- OpenImages! (https://storage.googleapis.com/openimages/web/index.html)"
   ]
  },
  {
   "cell_type": "markdown",
   "metadata": {},
   "source": [
    "## Resources and websites\n",
    "- https://ai.google/\n",
    "- https://eccv2018.org/ (Conference, seems to be every 2 years)\n",
    "- https://ai.google/education/\n",
    "- https://towardsdatascience.com/the-cold-start-problem-how-to-build-your-machine-learning-portfolio-6718b4ae83e9\n",
    "- Introduction to AI and computer vision: https://john.aicommons.science/deepvision/\n",
    "- https://medium.freecodecamp.org/an-intuitive-guide-to-convolutional-neural-networks-260c2de0a050\n",
    "<br>\n",
    "<br>\n",
    "And here some fun/amazing ones:\n",
    "- https://www.the-scientist.com/news-opinion/ai-object-recognition-system-operates-at-speed-of-light--64569\n",
    "- Cool publications: https://ai.google/research/teams/applied-science\n",
    "<br>\n",
    "<br>\n",
    "In case you have a company that needs funding:\n",
    "- https://ai.google/social-good/impact-challenge/\n",
    "<br>\n",
    "<br>\n",
    "Other:\n",
    "- https://ai.google/tools/datasets/\n",
    "- https://www.sharpestminds.com/"
   ]
  },
  {
   "cell_type": "markdown",
   "metadata": {},
   "source": [
    "## The goals of object detection\n",
    "In object detection the goal usually is to find out what objects are present in an image and where they are located. Another reason would be to filter out an object of attention.\n",
    "<br>\n",
    "So for example for autonomous car, it is useful to find other road users and how relevant they are to the car (a person suddenly running over the street?). Also street signs and traffic lights might be a good thing to filter out of an image."
   ]
  },
  {
   "cell_type": "code",
   "execution_count": null,
   "metadata": {},
   "outputs": [],
   "source": []
  }
 ],
 "metadata": {
  "kernelspec": {
   "display_name": "Python 3",
   "language": "python",
   "name": "python3"
  },
  "language_info": {
   "codemirror_mode": {
    "name": "ipython",
    "version": 3
   },
   "file_extension": ".py",
   "mimetype": "text/x-python",
   "name": "python",
   "nbconvert_exporter": "python",
   "pygments_lexer": "ipython3",
   "version": "3.6.7"
  }
 },
 "nbformat": 4,
 "nbformat_minor": 2
}
