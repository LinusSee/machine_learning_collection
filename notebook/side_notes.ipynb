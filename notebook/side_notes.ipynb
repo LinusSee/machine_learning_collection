{
 "cells": [
  {
   "cell_type": "markdown",
   "metadata": {},
   "source": [
    "# Side notes\n",
    "Meant for stuff that either helps to further understand object detection or that is just fun and interesting."
   ]
  },
  {
   "cell_type": "markdown",
   "metadata": {},
   "source": [
    "## The visual cortex\n",
    "While the eye is the camera of the human brain, the processing of the image and pattern recognition takes place in the visual cortex. So for object recognition, we are interested in the visual cortex, that can process images and extract useful information out of them."
   ]
  },
  {
   "cell_type": "markdown",
   "metadata": {},
   "source": [
    "## Books (related but not exactely about ML)\n",
    "\n",
    "Opinions seem to be rather split about these two\n",
    "- https://www.goodreads.com/book/show/27539.On_Intelligence\n",
    "- https://en.wikipedia.org/wiki/How_to_Create_a_Mind"
   ]
  },
  {
   "cell_type": "code",
   "execution_count": null,
   "metadata": {},
   "outputs": [],
   "source": []
  }
 ],
 "metadata": {
  "kernelspec": {
   "display_name": "Python 3",
   "language": "python",
   "name": "python3"
  },
  "language_info": {
   "codemirror_mode": {
    "name": "ipython",
    "version": 3
   },
   "file_extension": ".py",
   "mimetype": "text/x-python",
   "name": "python",
   "nbconvert_exporter": "python",
   "pygments_lexer": "ipython3",
   "version": "3.6.7"
  }
 },
 "nbformat": 4,
 "nbformat_minor": 2
}
